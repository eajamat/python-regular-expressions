import re
def find_all_characters(strings):
  '''
  Docstring description in repository description
  '''
  result = ""
  temp_result = re.findall("[a-zA-z]",strings)
  for item in temp_result:
    result = result + item
  return result
